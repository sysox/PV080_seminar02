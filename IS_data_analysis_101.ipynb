{
 "cells": [
  {
   "cell_type": "markdown",
   "metadata": {},
   "source": [
    "# Seminar 02 - Jupyter notebooks and IS data analysis 101"
   ]
  },
  {
   "cell_type": "markdown",
   "metadata": {},
   "source": [
    "This is a Markdown cell. Markdown cells will contain instructions and explain what you have to do.\n",
    "\n",
    "Execute the Python cell below by selecting it and pressing the `▶ Run` button in the toolbar."
   ]
  },
  {
   "cell_type": "code",
   "execution_count": null,
   "metadata": {},
   "outputs": [],
   "source": [
    "# This is a comment inside Python cell\n",
    "print(\"Hello World\")"
   ]
  },
  {
   "cell_type": "markdown",
   "metadata": {},
   "source": [
    "Let us now start with a few simple tasks that will prepare you for a futher data analysis."
   ]
  },
  {
   "cell_type": "markdown",
   "metadata": {},
   "source": [
    "### Task 1\n",
    "\n",
    "In the cell below, write a function to print all numbers in the range from 1 to 10."
   ]
  },
  {
   "cell_type": "code",
   "execution_count": null,
   "metadata": {},
   "outputs": [],
   "source": [
    "# TODO: implement this function\n",
    "def print10():\n",
    "    pass\n",
    "\n",
    "print10()"
   ]
  },
  {
   "cell_type": "markdown",
   "metadata": {},
   "source": [
    "### Task 2\n",
    "The following cell shows how we can extract a datetime object from a string. \n",
    "\n",
    "Details and meaning of the `\"%Y-%m-%dT%H:%M:%S\"` formatting string can be found in the documentation:\n",
    "https://docs.python.org/3/library/datetime.html#strftime-and-strptime-behavior\n",
    "\n",
    "Your task is to determine the week day (Monday, Tuesday, ...) corresponding to this date.\n",
    "\n",
    "Hint: Look into the documentation."
   ]
  },
  {
   "cell_type": "code",
   "execution_count": null,
   "metadata": {},
   "outputs": [],
   "source": [
    "# The import syntax is quite rich and allows renaming to make the code more succinct\n",
    "from datetime import datetime as dt\n",
    "\n",
    "# This is the datetime value we are interested in parsing\n",
    "value = \"2021-06-30T18:01:56\"\n",
    "\n",
    "# Parse the string\n",
    "date = dt.strptime(value, \"%Y-%m-%dT%H:%M:%S\")\n",
    "\n",
    "# Finally, we can access the parsed attributes\n",
    "print(date.year == 2021)\n",
    "\n",
    "# TODO: print the name of the week day corresponding to this date\n",
    "pass"
   ]
  },
  {
   "cell_type": "markdown",
   "metadata": {},
   "source": [
    "### Task 3\n",
    "\n",
    "In order to analyze the private data the IS stores, we need to get familiar with the XML format. Thankfully, Python's Beautiful Soup library will be of great help.\n",
    "\n",
    "We will start by working with a simple dataset before we move on to work with the real data."
   ]
  },
  {
   "cell_type": "code",
   "execution_count": null,
   "metadata": {},
   "outputs": [],
   "source": [
    "# BeautifulSoup4 is a library for parsing HTML and XML code\n",
    "from bs4 import BeautifulSoup\n",
    "\n",
    "# Let us start with a small dummy XML tree\n",
    "# Think of this as an inline representation of an XML file\n",
    "xml_tree = '''\n",
    "<?xml version=\"1.0\" encoding=\"utf-8\" ?>\n",
    "<vsechny_udaje>\n",
    "  <osoba verze=\"1.10\" system=\"is.muni.cz\" vytvoreno=\"2015-11-30T17:01:26\">\n",
    "    <zakladni_udaje>\n",
    "      <uco>123456789</uco>\n",
    "      <jmeno>Jan</jmeno>\n",
    "      <prijmeni>Novak</prijmeni>\n",
    "    </zakladni_udaje>\n",
    "    <skupiny_log>\n",
    "      <skupina id=\"2\" nazev=\"Vstupní dveře budovy, FI Botanická 68a\" cip=\"3ba123626429a8d4273a\">\n",
    "        <p d=\"2015-04-19T22:58:14\" o=\"in\"/>\n",
    "        <p d=\"2015-10-07T07:24:00\" o=\"in\"/>\n",
    "        <p d=\"2016-04-20T08:56:20\" o=\"in\"/>\n",
    "        <p d=\"2016-12-15T02:56:15\" o=\"in\"/>\n",
    "        <p d=\"2017-09-09T10:24:47\" o=\"in\"/>\n",
    "        <p d=\"2017-12-24T17:54:07\" o=\"in\"/>\n",
    "        <p d=\"2018-07-20T09:16:59\" o=\"in\"/>\n",
    "        <p d=\"2018-10-19T20:48:36\" o=\"in\"/>\n",
    "        <p d=\"2019-04-19T08:43:22\" o=\"in\"/>\n",
    "        <p d=\"2019-11-09T04:21:51\" o=\"in\"/>\n",
    "      </skupina>\n",
    "    </skupiny_log>\n",
    "  </osoba>\n",
    "</vsechny_udaje>\n",
    "'''\n",
    "\n",
    "# In this step we parse the XML tree into a Python data structure\n",
    "soup = BeautifulSoup(xml_tree, 'lxml')"
   ]
  },
  {
   "cell_type": "markdown",
   "metadata": {},
   "source": [
    "Of course, we can *see* all the data right away, but try to interact with them through Python."
   ]
  },
  {
   "cell_type": "code",
   "execution_count": null,
   "metadata": {},
   "outputs": [],
   "source": [
    "# To print the UCO we need to find that element in the tree\n",
    "# This is easy because there is only a single element with the `uco` tag\n",
    "print(\"The UCO is:\", soup.find('uco').text)\n",
    "\n",
    "# TODO: Try to access and print also the `jmeno` and `prijmeni`\n",
    "pass"
   ]
  },
  {
   "cell_type": "code",
   "execution_count": null,
   "metadata": {},
   "outputs": [],
   "source": [
    "# What if we wanted to access the date inside the `osoba` tag?\n",
    "# We can start by finding that tag\n",
    "osoba = soup.find('osoba')\n",
    "\n",
    "# And then look into its attributes\n",
    "print(osoba.attrs)\n",
    "\n",
    "# `osoba.attrs` is a Python dictionary that we can access as usual\n",
    "print(isinstance(osoba.attrs, dict))\n",
    "\n",
    "# TODO: Finish the code to print the year and month from the `vytvoreno` attribute\n",
    "# Use the datetime parsing code above (`dt` is still accessible, no need to import it again)\n",
    "pass"
   ]
  },
  {
   "cell_type": "markdown",
   "metadata": {},
   "source": [
    "### Task 4\n",
    "\n",
    "The `skupiny_log` tag contains logs of historical events when the person opened a door using his card. Try to calculate the difference in days between the first and the last visit to the faculty."
   ]
  },
  {
   "cell_type": "code",
   "execution_count": null,
   "metadata": {},
   "outputs": [],
   "source": [
    "# You can use `find_all` to find all the tags of a given name\n",
    "# and also limit the findings to a subtree of the XML, that is, \n",
    "# \"chain\" the `find` and `find_all` calls.\n",
    "\n",
    "# TODO: get all logs of faculty entries\n",
    "open_tags = soup.find('skupiny_log').find_all(_)\n",
    "\n",
    "# Once you have the first and last visit you can simply subtract one from another\n",
    "# to receive so called `timedelta`, i.e. the difference between two datetimes.\n",
    "# Timedelta has several attributes and `days` can be one of them.\n",
    "\n",
    "# TODO: print the time difference between the first and the last entry\n",
    "pass"
   ]
  },
  {
   "cell_type": "markdown",
   "metadata": {},
   "source": [
    "### Task 5\n",
    "If you haven't already downloaded your data that IS stores, do it now. You'll find it here:\n",
    "https://is.muni.cz/auth/privacy/data_access_and_portability\n",
    "\n",
    "Download all of the data in XML file format (it might take a minute or so). Then load it into this notebook."
   ]
  },
  {
   "cell_type": "code",
   "execution_count": null,
   "metadata": {},
   "outputs": [],
   "source": [
    "# Now you will load up the real dataset\n",
    "# TODO: fill in the name of your data file\n",
    "with open(_, 'r') as handle:\n",
    "    raw_xml = handle.read()\n",
    "    \n",
    "# TODO: Finish up the code to parse the `raw_xml`\n",
    "pass"
   ]
  },
  {
   "cell_type": "code",
   "execution_count": null,
   "metadata": {},
   "outputs": [],
   "source": [
    "# What is some interesting information?\n",
    "# Find out what is code of your ISIC card. Hint: it is `cip` attribute of `skupina` tag\n",
    "skupina_tag = _\n",
    "isic_code = _"
   ]
  },
  {
   "cell_type": "markdown",
   "metadata": {},
   "source": [
    "### Task 6\n",
    "The IS stores also _all_ of your clicks (on the website in the past 6 months). Those are the `klik` tags. Find out all the unique IP addresses that you have used. Check out also the [`python-geoip`](https://pythonhosted.org/python-geoip/) library that can tell you the geo-location of the IP address."
   ]
  },
  {
   "cell_type": "code",
   "execution_count": null,
   "metadata": {},
   "outputs": [],
   "source": [
    "# TODO"
   ]
  },
  {
   "cell_type": "markdown",
   "metadata": {},
   "source": [
    "### Task 7\n",
    "List all the doors/classrooms, where you have used your ISIC card to enter. When was the first and the last time you've entered each one of them?"
   ]
  },
  {
   "cell_type": "code",
   "execution_count": null,
   "metadata": {},
   "outputs": [],
   "source": [
    "# TODO"
   ]
  },
  {
   "cell_type": "markdown",
   "metadata": {},
   "source": [
    "### Task 8\n",
    "When analyzing data it can be quite handy to plot them. Use [`matplotlib`](https://matplotlib.org/stable/users/index.html) library to get a better insight into the data set (think about plotting dates of access, user `klik`s, IP address usage,...)."
   ]
  },
  {
   "cell_type": "code",
   "execution_count": null,
   "metadata": {},
   "outputs": [],
   "source": [
    "import matplotlib.pyplot as plt\n",
    "import random\n",
    "\n",
    "# to plot a simple line\n",
    "plt.plot([random.randint(1, 10) for _ in range(100)])\n",
    "plt.plot([random.randint(4, 8) for _ in range(100)])"
   ]
  },
  {
   "cell_type": "code",
   "execution_count": null,
   "metadata": {},
   "outputs": [],
   "source": [
    "# histograms quickly show the frequency of a value\n",
    "plt.hist([random.randint(1,10) for _ in range(1000)])"
   ]
  }
 ],
 "metadata": {
  "celltoolbar": "Raw Cell Format",
  "interpreter": {
   "hash": "36cf16204b8548560b1c020c4e8fb5b57f0e4c58016f52f2d4be01e192833930"
  },
  "kernelspec": {
   "display_name": "Python 3 (ipykernel)",
   "language": "python",
   "name": "python3"
  },
  "language_info": {
   "codemirror_mode": {
    "name": "ipython",
    "version": 3
   },
   "file_extension": ".py",
   "mimetype": "text/x-python",
   "name": "python",
   "nbconvert_exporter": "python",
   "pygments_lexer": "ipython3",
   "version": "3.9.10"
  }
 },
 "nbformat": 4,
 "nbformat_minor": 2
}
